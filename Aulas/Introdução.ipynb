{
 "cells": [
  {
   "cell_type": "markdown",
   "metadata": {},
   "source": [
    "# **Introdução ao Python e Lógica de Porgramação**"
   ]
  },
  {
   "cell_type": "markdown",
   "metadata": {},
   "source": [
    "## Strings"
   ]
  },
  {
   "cell_type": "code",
   "execution_count": 1,
   "metadata": {},
   "outputs": [
    {
     "data": {
      "text/plain": [
       "'Matilda é uma cachorrinha muito fofa'"
      ]
     },
     "execution_count": 1,
     "metadata": {},
     "output_type": "execute_result"
    }
   ],
   "source": [
    "a = \"Matilda é uma cachorrinha muito fofa\"\n",
    "a"
   ]
  },
  {
   "cell_type": "code",
   "execution_count": 4,
   "metadata": {},
   "outputs": [
    {
     "data": {
      "text/plain": [
       "'m'"
      ]
     },
     "execution_count": 4,
     "metadata": {},
     "output_type": "execute_result"
    }
   ],
   "source": [
    "#selecionando apenas um caractere da string\n",
    "a[11]"
   ]
  },
  {
   "cell_type": "code",
   "execution_count": 9,
   "metadata": {},
   "outputs": [
    {
     "data": {
      "text/plain": [
       "('ilda', 'Matilda é u', 'cachorrinha muito fofa')"
      ]
     },
     "execution_count": 9,
     "metadata": {},
     "output_type": "execute_result"
    }
   ],
   "source": [
    "#selecionando partes de uma string\n",
    "a[3:7], a[:11], a[14:]"
   ]
  },
  {
   "cell_type": "code",
   "execution_count": 11,
   "metadata": {},
   "outputs": [
    {
     "data": {
      "text/plain": [
       "'Matilda é uma cachorrinha muito fofa e linda'"
      ]
     },
     "execution_count": 11,
     "metadata": {},
     "output_type": "execute_result"
    }
   ],
   "source": [
    "#concatenação de strings (só string com string)\n",
    "b=\" e linda\"\n",
    "a+b"
   ]
  },
  {
   "cell_type": "code",
   "execution_count": 12,
   "metadata": {},
   "outputs": [
    {
     "name": "stdout",
     "output_type": "stream",
     "text": [
      "Resposta para a vida, o universo e tudo o mais: 42\n"
     ]
    }
   ],
   "source": [
    "#para acrescentar números\n",
    "c = \"Resposta para a vida, o universo e tudo o mais:\"\n",
    "print(c, 42)"
   ]
  },
  {
   "cell_type": "markdown",
   "metadata": {},
   "source": [
    "f-strings são strings com a letra f no início e chaves {} para realizar a interpolação das expressões. Facilita a vida substituindo o \"%\" e o \".format(,)\". Podem ser usadas com funções, dicionários, classes e operações matemáticas. Vejamos:"
   ]
  },
  {
   "cell_type": "code",
   "execution_count": 14,
   "metadata": {},
   "outputs": [
    {
     "name": "stdout",
     "output_type": "stream",
     "text": [
      "É o aniversário da Matilda\n"
     ]
    }
   ],
   "source": [
    "nome = \"Matilda\"\n",
    "print(f'É o aniversário da {nome}')"
   ]
  },
  {
   "cell_type": "code",
   "execution_count": 16,
   "metadata": {},
   "outputs": [
    {
     "name": "stdout",
     "output_type": "stream",
     "text": [
      "tan(2.3) = -1.1192136417341325\n"
     ]
    }
   ],
   "source": [
    "#funções matemáticas\n",
    "import math\n",
    "x = 2.3\n",
    "print(f'tan({x}) = {math.tan(x)}')"
   ]
  },
  {
   "cell_type": "code",
   "execution_count": 17,
   "metadata": {},
   "outputs": [
    {
     "name": "stdout",
     "output_type": "stream",
     "text": [
      "Nome: Matilda\n",
      "Raça: sem raça definida\n",
      "Tamanho: médio\n"
     ]
    }
   ],
   "source": [
    "#multilinhas\n",
    "raça = \"sem raça definida\"\n",
    "tamanho = \"médio\"\n",
    "print(f'Nome: {nome}\\n'\n",
    "f'Raça: {raça}\\n'\n",
    "f'Tamanho: {tamanho}')"
   ]
  },
  {
   "cell_type": "code",
   "execution_count": 18,
   "metadata": {},
   "outputs": [
    {
     "name": "stdout",
     "output_type": "stream",
     "text": [
      "A conta realizada teve como resultado 66\n"
     ]
    }
   ],
   "source": [
    "#funções\n",
    "def conta(x):\n",
    "    return x+23+42\n",
    "\n",
    "y = 1\n",
    "print(f'A conta realizada teve como resultado {conta(y)}')"
   ]
  },
  {
   "cell_type": "code",
   "execution_count": 19,
   "metadata": {},
   "outputs": [
    {
     "name": "stdout",
     "output_type": "stream",
     "text": [
      "A Dolly tem 7 aninhos de uma vida de fofura.\n"
     ]
    }
   ],
   "source": [
    "#dicionário\n",
    "cachorrada = {'nome': 'Dolly', 'idade': 7}\n",
    "print(f\"A {cachorrada['nome']} tem {cachorrada['idade']} aninhos de uma vida de fofura.\")"
   ]
  },
  {
   "cell_type": "markdown",
   "metadata": {},
   "source": [
    "Neste caso de dicionário, é importante notar que se utilizarmos as aspas simples no dicionário e depois na f-string, teremos um erro:"
   ]
  },
  {
   "cell_type": "code",
   "execution_count": 20,
   "metadata": {},
   "outputs": [
    {
     "ename": "SyntaxError",
     "evalue": "f-string: unmatched '[' (Temp/ipykernel_4496/1714416342.py, line 2)",
     "output_type": "error",
     "traceback": [
      "\u001b[1;36m  File \u001b[1;32m\"C:\\Users\\naomy\\AppData\\Local\\Temp/ipykernel_4496/1714416342.py\"\u001b[1;36m, line \u001b[1;32m2\u001b[0m\n\u001b[1;33m    print(f'A {cachorrada['nome']} tem {cachorrada['idade']} aninhos de uma vida de fofura.')\u001b[0m\n\u001b[1;37m                           ^\u001b[0m\n\u001b[1;31mSyntaxError\u001b[0m\u001b[1;31m:\u001b[0m f-string: unmatched '['\n"
     ]
    }
   ],
   "source": [
    "cachorrada = {'nome': 'Dolly', 'idade': 7}\n",
    "print(f'A {cachorrada['nome']} tem {cachorrada['idade']} aninhos de uma vida de fofura.')"
   ]
  },
  {
   "cell_type": "markdown",
   "metadata": {},
   "source": [
    "Funções pré-existentes que podem ser aplicadas à uma string:"
   ]
  },
  {
   "cell_type": "code",
   "execution_count": 22,
   "metadata": {},
   "outputs": [
    {
     "data": {
      "text/plain": [
       "(7, 36)"
      ]
     },
     "execution_count": 22,
     "metadata": {},
     "output_type": "execute_result"
    }
   ],
   "source": [
    "#tamanho da string\n",
    "len(nome), len(a)"
   ]
  },
  {
   "cell_type": "code",
   "execution_count": 23,
   "metadata": {},
   "outputs": [
    {
     "data": {
      "text/plain": [
       "('matilda é uma cachorrinha muito fofa',\n",
       " 'MATILDA É UMA CACHORRINHA MUITO FOFA')"
      ]
     },
     "execution_count": 23,
     "metadata": {},
     "output_type": "execute_result"
    }
   ],
   "source": [
    "#maiúsculo e minúsculo\n",
    "a.lower(), a.upper()"
   ]
  },
  {
   "cell_type": "code",
   "execution_count": 24,
   "metadata": {},
   "outputs": [
    {
     "data": {
      "text/plain": [
       "(True, True)"
      ]
     },
     "execution_count": 24,
     "metadata": {},
     "output_type": "execute_result"
    }
   ],
   "source": [
    "#start and end\n",
    "a.startswith('Ma'), a.endswith('fofa')"
   ]
  },
  {
   "cell_type": "code",
   "execution_count": 25,
   "metadata": {},
   "outputs": [
    {
     "data": {
      "text/plain": [
       "2"
      ]
     },
     "execution_count": 25,
     "metadata": {},
     "output_type": "execute_result"
    }
   ],
   "source": [
    "#encontrando um elemento na string e retornando seu índice\n",
    "a.find('tilda')"
   ]
  },
  {
   "cell_type": "code",
   "execution_count": 26,
   "metadata": {},
   "outputs": [
    {
     "data": {
      "text/plain": [
       "'Molly é uma cachorrinha muito fofa'"
      ]
     },
     "execution_count": 26,
     "metadata": {},
     "output_type": "execute_result"
    }
   ],
   "source": [
    "#substituir trechos da string\n",
    "a.replace('Matilda', 'Molly')"
   ]
  },
  {
   "cell_type": "code",
   "execution_count": 27,
   "metadata": {},
   "outputs": [
    {
     "data": {
      "text/plain": [
       "['Matilda', 'é', 'uma', 'cachorrinha', 'muito', 'fofa']"
      ]
     },
     "execution_count": 27,
     "metadata": {},
     "output_type": "execute_result"
    }
   ],
   "source": [
    "#separação da string\n",
    "#pode ser usada com qualquer tipo de separador. ex: espaço\n",
    "a.split(' ')"
   ]
  },
  {
   "cell_type": "code",
   "execution_count": 31,
   "metadata": {},
   "outputs": [
    {
     "data": {
      "text/plain": [
       "(False, True, False)"
      ]
     },
     "execution_count": 31,
     "metadata": {},
     "output_type": "execute_result"
    }
   ],
   "source": [
    "#comparação\n",
    "#menor, diferente, igual\n",
    "a < nome, a!= nome, a==nome"
   ]
  },
  {
   "cell_type": "code",
   "execution_count": 33,
   "metadata": {},
   "outputs": [
    {
     "data": {
      "text/plain": [
       "(True, True)"
      ]
     },
     "execution_count": 33,
     "metadata": {},
     "output_type": "execute_result"
    }
   ],
   "source": [
    "#checando se uma substring pertence a uma string\n",
    "'tilda' in a, 'Sirius' not in a"
   ]
  },
  {
   "cell_type": "markdown",
   "metadata": {},
   "source": [
    "## Listas, Dicionários e Tuplas"
   ]
  },
  {
   "cell_type": "markdown",
   "metadata": {},
   "source": [
    "### Listas e tuplas\n",
    "Uma lista em Python é uma coleção de elementos e pode ter diferentes tipos de variáveis, incluindo uma própria lista. Ela é mutável, podendo ser modificada."
   ]
  },
  {
   "cell_type": "code",
   "execution_count": 35,
   "metadata": {},
   "outputs": [],
   "source": [
    "dogs = ['Dolly', 'Molly', 'Sirius', 'Judith', 'Matilda', 7, 7, 10, 1]"
   ]
  },
  {
   "cell_type": "markdown",
   "metadata": {},
   "source": [
    "A lista pode conter tuplas, que são uma espécie de listas imutáveis (mas-nem-tanto) definidas como:"
   ]
  },
  {
   "cell_type": "code",
   "execution_count": 17,
   "metadata": {},
   "outputs": [
    {
     "data": {
      "text/plain": [
       "['Dolly', 'Molly', 'Sirius', 'Judith', 'Matilda', (7, 7, 10, 1)]"
      ]
     },
     "execution_count": 17,
     "metadata": {},
     "output_type": "execute_result"
    }
   ],
   "source": [
    "tupla = (7, 7, 10, 1)\n",
    "dogs2 = ['Dolly', 'Molly', 'Sirius', 'Judith', 'Matilda', tupla]\n",
    "dogs2"
   ]
  },
  {
   "cell_type": "code",
   "execution_count": 94,
   "metadata": {},
   "outputs": [
    {
     "data": {
      "text/plain": [
       "tuple"
      ]
     },
     "execution_count": 94,
     "metadata": {},
     "output_type": "execute_result"
    }
   ],
   "source": [
    "type(tupla)"
   ]
  },
  {
   "cell_type": "markdown",
   "metadata": {},
   "source": [
    "As tuplas são úteis quando as informações que elas contêm já são bem definidas e não precisarão ser mudadas."
   ]
  },
  {
   "cell_type": "code",
   "execution_count": 11,
   "metadata": {},
   "outputs": [
    {
     "data": {
      "text/plain": [
       "['Sirius', 'Judith']"
      ]
     },
     "execution_count": 11,
     "metadata": {},
     "output_type": "execute_result"
    }
   ],
   "source": [
    "#acessando elementos da lista\n",
    "dogs2[3]\n",
    "#fatiando a lista\n",
    "dogs2[2:4]"
   ]
  },
  {
   "cell_type": "code",
   "execution_count": 18,
   "metadata": {},
   "outputs": [
    {
     "data": {
      "text/plain": [
       "['Dolly', 'Molly', 'Sirius', 'Judith', 'Matilda']"
      ]
     },
     "execution_count": 18,
     "metadata": {},
     "output_type": "execute_result"
    }
   ],
   "source": [
    "#deletando elementos, neste caso, deletando a tupla\n",
    "del dogs2[5]\n",
    "dogs2"
   ]
  },
  {
   "cell_type": "code",
   "execution_count": 19,
   "metadata": {},
   "outputs": [
    {
     "data": {
      "text/plain": [
       "['Dolly', 'Molly', 'Sirius', 'Judith', 'Matilda', 'Rebeca']"
      ]
     },
     "execution_count": 19,
     "metadata": {},
     "output_type": "execute_result"
    }
   ],
   "source": [
    "#adicionando elementos ao final lista, um por vez em que append é utilizado\n",
    "dogs2.append('Rebeca')\n",
    "dogs2"
   ]
  },
  {
   "cell_type": "code",
   "execution_count": 20,
   "metadata": {},
   "outputs": [
    {
     "data": {
      "text/plain": [
       "['Dolly', 'Molly', 'Sirius', 'Judith', 'Matilda', 'Rebeca', 'Cissa', 'Juju']"
      ]
     },
     "execution_count": 20,
     "metadata": {},
     "output_type": "execute_result"
    }
   ],
   "source": [
    "##adicionando evários lementos ao final lista\n",
    "k = ['Cissa', 'Juju']\n",
    "dogs2.extend(k)\n",
    "dogs2"
   ]
  },
  {
   "cell_type": "code",
   "execution_count": 24,
   "metadata": {},
   "outputs": [
    {
     "data": {
      "text/plain": [
       "['Dolly',\n",
       " 'Molly',\n",
       " 'Sirius',\n",
       " 'Judith',\n",
       " 'Matilda',\n",
       " 'Matilda',\n",
       " 'Matilda',\n",
       " 'Rebeca',\n",
       " 'Cissa',\n",
       " 'Juju']"
      ]
     },
     "execution_count": 24,
     "metadata": {},
     "output_type": "execute_result"
    }
   ],
   "source": [
    "#inserindo elementos em posições específicas. primeiro a posição e depois o elemento\n",
    "dogs2.insert(5, 'Matilda')\n",
    "dogs2"
   ]
  },
  {
   "cell_type": "code",
   "execution_count": 26,
   "metadata": {},
   "outputs": [
    {
     "data": {
      "text/plain": [
       "['Dolly',\n",
       " 'Molly',\n",
       " 'Sirius',\n",
       " 'Judith',\n",
       " 'Matilda',\n",
       " 'Matilda',\n",
       " 'Matilda',\n",
       " 'Rebeca',\n",
       " 'Cissa']"
      ]
     },
     "execution_count": 26,
     "metadata": {},
     "output_type": "execute_result"
    }
   ],
   "source": [
    "#removendo elementos um por um\n",
    "dogs2.remove('Juju')\n",
    "dogs2"
   ]
  },
  {
   "cell_type": "code",
   "execution_count": 27,
   "metadata": {},
   "outputs": [
    {
     "data": {
      "text/plain": [
       "'Matilda'"
      ]
     },
     "execution_count": 27,
     "metadata": {},
     "output_type": "execute_result"
    }
   ],
   "source": [
    "#removendo um elemento em posição específica e mostra qual foi\n",
    "dogs2.pop(5)"
   ]
  },
  {
   "cell_type": "code",
   "execution_count": 28,
   "metadata": {},
   "outputs": [
    {
     "data": {
      "text/plain": [
       "3"
      ]
     },
     "execution_count": 28,
     "metadata": {},
     "output_type": "execute_result"
    }
   ],
   "source": [
    "#retornando a posição específica de um elemento\n",
    "dogs2.index('Judith')"
   ]
  },
  {
   "cell_type": "code",
   "execution_count": 29,
   "metadata": {},
   "outputs": [
    {
     "data": {
      "text/plain": [
       "['Cissa', 'Dolly', 'Judith', 'Matilda', 'Matilda', 'Molly', 'Rebeca', 'Sirius']"
      ]
     },
     "execution_count": 29,
     "metadata": {},
     "output_type": "execute_result"
    }
   ],
   "source": [
    "#colocando a lista em ordem crescente\n",
    "dogs2.sort()\n",
    "dogs2"
   ]
  },
  {
   "cell_type": "markdown",
   "metadata": {},
   "source": [
    "Operações matemáticas na lista:"
   ]
  },
  {
   "cell_type": "code",
   "execution_count": 52,
   "metadata": {},
   "outputs": [
    {
     "data": {
      "text/plain": [
       "[4, 8, 15, 16, 23, 42, 4, 8, 15, 16, 23, 42, 4, 8, 15, 16, 23, 42]"
      ]
     },
     "execution_count": 52,
     "metadata": {},
     "output_type": "execute_result"
    }
   ],
   "source": [
    "l = [4, 8, 15, 16, 23, 42]\n",
    "l*3 #repete a lista 3 vezes, criando uma nova lista com todos esses elementos"
   ]
  },
  {
   "cell_type": "code",
   "execution_count": 55,
   "metadata": {},
   "outputs": [
    {
     "data": {
      "text/plain": [
       "True"
      ]
     },
     "execution_count": 55,
     "metadata": {},
     "output_type": "execute_result"
    }
   ],
   "source": [
    "#pertencimento de elementos\n",
    "4 in l"
   ]
  },
  {
   "cell_type": "code",
   "execution_count": 57,
   "metadata": {},
   "outputs": [
    {
     "data": {
      "text/plain": [
       "False"
      ]
     },
     "execution_count": 57,
     "metadata": {},
     "output_type": "execute_result"
    }
   ],
   "source": [
    "#pertencimento de elementos\n",
    "23 not in l"
   ]
  },
  {
   "cell_type": "code",
   "execution_count": 60,
   "metadata": {},
   "outputs": [
    {
     "data": {
      "text/plain": [
       "[3, 5, 7, 9, 11, 13, 15, 17, 19, 21]"
      ]
     },
     "execution_count": 60,
     "metadata": {},
     "output_type": "execute_result"
    }
   ],
   "source": [
    "#listas criadas por iteração\n",
    "impar = [2*i + 1 for i in range(1,11)] #esta é a maneira mais indicada de se criar listas por iterações\n",
    "impar"
   ]
  },
  {
   "cell_type": "markdown",
   "metadata": {},
   "source": [
    "Funções já definidas que podem ser aplicadas às listas: "
   ]
  },
  {
   "cell_type": "code",
   "execution_count": 63,
   "metadata": {},
   "outputs": [
    {
     "data": {
      "text/plain": [
       "10"
      ]
     },
     "execution_count": 63,
     "metadata": {},
     "output_type": "execute_result"
    }
   ],
   "source": [
    "#tamanho\n",
    "len(impar)"
   ]
  },
  {
   "cell_type": "code",
   "execution_count": 66,
   "metadata": {},
   "outputs": [
    {
     "data": {
      "text/plain": [
       "(21, 3, 120)"
      ]
     },
     "execution_count": 66,
     "metadata": {},
     "output_type": "execute_result"
    }
   ],
   "source": [
    "#máximo, mínimo, soma dos elementos\n",
    "max(impar), min(impar), sum(impar)"
   ]
  },
  {
   "cell_type": "markdown",
   "metadata": {},
   "source": [
    "### Dicionário\n",
    "Um dicionário contém pares de valores-chaves. Vejamos:"
   ]
  },
  {
   "cell_type": "code",
   "execution_count": 114,
   "metadata": {},
   "outputs": [],
   "source": [
    "dicionario = {'cidade': 'São Carlos', 'estado': 'SP'}"
   ]
  },
  {
   "cell_type": "code",
   "execution_count": 116,
   "metadata": {},
   "outputs": [
    {
     "data": {
      "text/plain": [
       "dict_keys(['cidade', 'estado'])"
      ]
     },
     "execution_count": 116,
     "metadata": {},
     "output_type": "execute_result"
    }
   ],
   "source": [
    "#pegando as chaves\n",
    "dicionario.keys()"
   ]
  },
  {
   "cell_type": "code",
   "execution_count": 118,
   "metadata": {},
   "outputs": [
    {
     "data": {
      "text/plain": [
       "dict_values(['São Carlos', 'SP'])"
      ]
     },
     "execution_count": 118,
     "metadata": {},
     "output_type": "execute_result"
    }
   ],
   "source": [
    "#pegando os valores\n",
    "dicionario.values()"
   ]
  },
  {
   "cell_type": "markdown",
   "metadata": {},
   "source": [
    "### Funções"
   ]
  },
  {
   "cell_type": "markdown",
   "metadata": {},
   "source": [
    "São sequências de comandos que executam determinada tarefa sempre que solicitadas. Temos dois tipos, que são as funções que podemos criar e as funções embutidas, que já existem. As funções apresentam a seguinte estrutura: elas possuem um nome, variáveis de entrada (parâmetros) e a sequência de comandos a ser executada. Vejamos alguns exemplos:"
   ]
  },
  {
   "cell_type": "code",
   "execution_count": 21,
   "metadata": {},
   "outputs": [],
   "source": [
    "#Consideremos a função que vai retornar a comissão recebida por um vendendor conforme o valor das suas vendas (ex. 19 da lista)\n",
    "def comissao(venda):\n",
    "    if venda < 1000:\n",
    "        print(f'Sem comissão.')\n",
    "    elif venda in range(1000, 5000):\n",
    "        valor = venda*0.1\n",
    "        print(f'Valor da comissão: RS {valor}')\n",
    "    elif venda in range(5000, 10000):\n",
    "        valor = venda*0.2\n",
    "        print(f'Valor da comissão: RS {valor}')\n",
    "    elif venda in range(10000, 50000):\n",
    "        valor = venda*0.25\n",
    "        print(f'Valor da comissão: RS {valor}')\n",
    "    elif venda > 50000:\n",
    "        valor = venda*0.3\n",
    "        print(f'Valor da comissão: RS {valor}')"
   ]
  },
  {
   "cell_type": "markdown",
   "metadata": {},
   "source": [
    "No exemplo acima, a função criada foi chamada de *comissao* e tem como parâmetro o valor da *venda*. A comissão depende deste último valor e a função traz as mensagens para o vendedor de quanto ele vai ganhar para cada valor de venda realizado.\n",
    "\n",
    "Os parâmetros também podem ser do tipo ***args**, que são uma lista de argumentos do tipo tupla, e os ****kwargs**, que são do tipo dicionário. Alguns exemplos:"
   ]
  },
  {
   "cell_type": "code",
   "execution_count": 30,
   "metadata": {},
   "outputs": [],
   "source": [
    "#args\n",
    "def funcaozinha1(*args):\n",
    "    print(f'Estas são as coisas que mais gosto de fazer: {args}')\n",
    "    for i in args:\n",
    "        print(i)"
   ]
  },
  {
   "cell_type": "code",
   "execution_count": 29,
   "metadata": {},
   "outputs": [
    {
     "name": "stdout",
     "output_type": "stream",
     "text": [
      "Estas são as coisas que mais gosto de fazer: ('Aprender', 'ler', 'viajar')\n",
      "Aprender\n",
      "ler\n",
      "viajar\n"
     ]
    }
   ],
   "source": [
    "funcaozinha1('Aprender', 'ler', 'viajar')"
   ]
  },
  {
   "cell_type": "code",
   "execution_count": 32,
   "metadata": {},
   "outputs": [],
   "source": [
    "#kwargs\n",
    "def funcaozinha2(**kwargs):\n",
    "    print(f'O nome dela(e) é {kwargs.get(\"nome\")} e sua idade é {kwargs.get(\"idade\")}')"
   ]
  },
  {
   "cell_type": "code",
   "execution_count": 34,
   "metadata": {},
   "outputs": [
    {
     "name": "stdout",
     "output_type": "stream",
     "text": [
      "O nome dela(e) é Naomy e sua idade é 29\n"
     ]
    }
   ],
   "source": [
    "funcaozinha2(nome = 'Naomy',\n",
    "             idade = '29',\n",
    "             profissao = 'Física')"
   ]
  },
  {
   "cell_type": "markdown",
   "metadata": {},
   "source": [
    "Quanto às funções pré-existentes, temos 3 principais tipos: map, filter e reduce:\n",
    "- map() é utilizada quando uma operação será feita em todos os itens de uma lista, fazendo uma transformação de *n* elementos para *n* elementos;\n",
    "- filter() é utilizada quando se quer filtrar elementos de uma lista, fazendo uma transformação de *n* elementos para *m* elementos, *m < n*;\n",
    "- reduce() é utilizada quando se quer reduzir todos os elementos de uma lista a um único elemento, fazendo uma transformação de *n* elementos a um único.\n",
    "\n",
    "Consideremos os exemplos:"
   ]
  },
  {
   "cell_type": "code",
   "execution_count": 35,
   "metadata": {},
   "outputs": [
    {
     "name": "stdout",
     "output_type": "stream",
     "text": [
      "[2, 2, 4, 6, 10, 16, 26, 42]\n"
     ]
    }
   ],
   "source": [
    "#map -> multiplicando todos os elementos da lista por 2\n",
    "lista = [1, 1, 2, 3, 5, 8, 13, 21]\n",
    "print(list(map(lambda x: x*2, lista)))"
   ]
  },
  {
   "cell_type": "code",
   "execution_count": 37,
   "metadata": {},
   "outputs": [
    {
     "name": "stdout",
     "output_type": "stream",
     "text": [
      "[1, 1, 3, 5, 13, 21]\n"
     ]
    }
   ],
   "source": [
    "# filter -> selecionando os elementos ímpares\n",
    "lista = [1, 1, 2, 3, 5, 8, 13, 21]\n",
    "print(list(filter(lambda x: x%2 != 0, lista)))"
   ]
  },
  {
   "cell_type": "code",
   "execution_count": 41,
   "metadata": {},
   "outputs": [
    {
     "name": "stdout",
     "output_type": "stream",
     "text": [
      "54\n"
     ]
    }
   ],
   "source": [
    "#reduce -> somando todos os elementos da lista e reduzindo-os a um valor\n",
    "from functools import reduce #esta função precisa ser importada\n",
    "\n",
    "lista = [1, 1, 2, 3, 5, 8, 13, 21]\n",
    "print(reduce(lambda x, y: x+y, lista))"
   ]
  },
  {
   "cell_type": "markdown",
   "metadata": {},
   "source": [
    "É importante notar que, nestes três exemplos, utilizamos outro tipo de função, a *função anônima*  **lambda**. É chamada de anônima, pois ela não recebe um nome específico de acordo com sua tarefa de execução, sendo sempre chamada de lambda. Está sempre contida em uma linha de código, conforme visto nos exemplos anteriores, tendo uma sentença do tipo *lambda argumentos: expressão*. Ela pode realizar vários tipos de tarefas, tais como operações lógicas simples. Porém, se a função desejada abrange mais de uma linha, então a função lambda não é adequada. Mas para funções simples e compactas, ela pode ser utilizada."
   ]
  },
  {
   "cell_type": "markdown",
   "metadata": {},
   "source": [
    "Outro conceito importante dentro de funções são os **decorators**. "
   ]
  },
  {
   "cell_type": "markdown",
   "metadata": {},
   "source": [
    "## Condicionais e loops"
   ]
  },
  {
   "cell_type": "markdown",
   "metadata": {},
   "source": [
    "### Condicionais: if, else, elif "
   ]
  },
  {
   "cell_type": "markdown",
   "metadata": {},
   "source": [
    "Podemos determinar condições para o nosso programa, de forma que ele execute as atividades requeridas conforme estas condições. Para isto, utilizamos *if*, *else* e *elif*. \n",
    "\n",
    "Vejamos o seguinte exemplo: dado um número n, se ele for ímpar (ou seja, se o resto de sua divisão por 2 por diferente de zero), queremos que o usuário receba a mensagem \"ímpar\". Caso ele seja par e esteja contido entre 2 e 6 incluídos, teremos a mensagem \"par e pequeno\"; caso n seja par e contido entre 6 e 20 incluídos, teremos a mensagem \"par e médio\"; finalmente, caso n seja par e maior que 20, teremos a mensagem \"par e grande\"."
   ]
  },
  {
   "cell_type": "code",
   "execution_count": 7,
   "metadata": {},
   "outputs": [
    {
     "name": "stdout",
     "output_type": "stream",
     "text": [
      "Par e médio\n"
     ]
    }
   ],
   "source": [
    "n = 18\n",
    "if n%2 != 0: #primeira condição\n",
    "    print('Impar')\n",
    "elif n%2 == 0 and n in range(2,6): #segunda condição tem o else + if = elif, porque há outra condição antes\n",
    "    print('Par e pequeno')\n",
    "elif n%2 == 0 and n in range(6,21): #terceira condição\n",
    "    print('Par e médio')\n",
    "elif n%2 == 0 and n > 20: #última condição \n",
    "    print('Par e grande')"
   ]
  },
  {
   "cell_type": "markdown",
   "metadata": {},
   "source": [
    "Outro exemplo que podemos considerar, retirado da lista, é uma função que vai exibir os valores das parcelas a serem pagas por um determinado produto, dados os valores de entrada, que são o valor inicial da parcela, o valor percentual dos juros e a quantidade de parcelas a serem pagas. Vejamos:"
   ]
  },
  {
   "cell_type": "code",
   "execution_count": 33,
   "metadata": {},
   "outputs": [],
   "source": [
    "#v_inicial = valor da primeira parcela (entrada)\n",
    "#v_percent = valor percentual dos juros\n",
    "#n = número de parcelas\n",
    "def valor_parcelas(v_inicial, v_percent, n):\n",
    "    print(f'Parcela inicial: R${v_inicial}')\n",
    "    for i in range(2, n+1):\n",
    "        print(f'Parcela {i} : R$ {round(v_inicial*(1+v_percent)**i, 2)}')"
   ]
  },
  {
   "cell_type": "code",
   "execution_count": 36,
   "metadata": {},
   "outputs": [
    {
     "name": "stdout",
     "output_type": "stream",
     "text": [
      "Parcela inicial: R$100\n",
      "Parcela 2 : R$ 121.0\n",
      "Parcela 3 : R$ 133.1\n",
      "Parcela 4 : R$ 146.41\n"
     ]
    }
   ],
   "source": [
    "valor_parcelas(100, 0.1, 4)"
   ]
  },
  {
   "cell_type": "markdown",
   "metadata": {},
   "source": [
    "### Loops de iteração com for e while"
   ]
  },
  {
   "cell_type": "markdown",
   "metadata": {},
   "source": [
    "Quando precisamos fazer uma operação sucessiva ao longo de diferentes valores, isto é chamado de iteração. Por exemplo, se quisermos calcular quanto um cliente gastou em um supermercado ao longo de vários dias, temos que somar tudo que foi comprado ao longo desses dias. Neste caso, precisamos utilizar loops de iteração com *for* e *while*."
   ]
  },
  {
   "cell_type": "markdown",
   "metadata": {},
   "source": [
    "Nos loops com *for*, temos a seguinte sentença: **para** valores dentro do intervalo desejado, realizar uma determinada ação. Esta sentença é, então, executada considerando-se um iterável, um intervalo e a ação.\n",
    "Vejamos um primeiro exemplo no qual queremos que, dado um número n, o programa nos retorne o valor do quadrado dos números menores do que n:"
   ]
  },
  {
   "cell_type": "code",
   "execution_count": 46,
   "metadata": {},
   "outputs": [
    {
     "name": "stdout",
     "output_type": "stream",
     "text": [
      "1\n",
      "4\n",
      "9\n",
      "16\n",
      "25\n",
      "36\n"
     ]
    }
   ],
   "source": [
    "n = 7 #n = int(input()) se quisermos pedir o valor de n\n",
    "for i in range(1,n): #i é o iterável e range() define o intervalo da ação\n",
    "    if i < n:\n",
    "        print(f'{i**2}')"
   ]
  },
  {
   "cell_type": "markdown",
   "metadata": {},
   "source": [
    "Este mesmo exemplo pode ser escrito utilizando *while* no lugar do *for*, com a sentença agora tendo sido modificada para: **enquanto** estiver dentro do intervalo desejado, realizar uma determinada ação. Novamente, temos um iterável, um intervalo e uma ação a ser executada. Vejamos:"
   ]
  },
  {
   "cell_type": "code",
   "execution_count": 47,
   "metadata": {},
   "outputs": [
    {
     "name": "stdout",
     "output_type": "stream",
     "text": [
      "1\n",
      "4\n",
      "9\n",
      "16\n",
      "25\n",
      "36\n"
     ]
    }
   ],
   "source": [
    "n = 7\n",
    "i = 1 #iniciação do iterável \n",
    "while i < n: \n",
    "    print(f'{i**2}')\n",
    "    i += 1"
   ]
  }
 ],
 "metadata": {
  "kernelspec": {
   "display_name": "Python 3.9.7 ('base')",
   "language": "python",
   "name": "python3"
  },
  "language_info": {
   "codemirror_mode": {
    "name": "ipython",
    "version": 3
   },
   "file_extension": ".py",
   "mimetype": "text/x-python",
   "name": "python",
   "nbconvert_exporter": "python",
   "pygments_lexer": "ipython3",
   "version": "3.9.7"
  },
  "orig_nbformat": 4,
  "vscode": {
   "interpreter": {
    "hash": "ddf9f7fa837ccbe336505c4b502acfd049bb49c03d0ee7c6ba05570783e480ca"
   }
  }
 },
 "nbformat": 4,
 "nbformat_minor": 2
}
