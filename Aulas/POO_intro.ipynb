{
 "cells": [
  {
   "cell_type": "markdown",
   "metadata": {},
   "source": [
    "# Programação orientada a objetos (POO)"
   ]
  },
  {
   "cell_type": "markdown",
   "metadata": {},
   "source": [
    "## Introdução"
   ]
  },
  {
   "cell_type": "markdown",
   "metadata": {},
   "source": [
    "Vamos, agora, dar ínicio à uma abordagem eficiente para escrever software, que é a **programação orientada a objetos**. Sua diferença em relação à *programação estruturada* consiste em que, no caso desta, temos procedimentos que são aplicadas globalmente e o funcionamento do programa dá-se seguindo a *estrutura* sequencial do código. Já no caso da POO, os procedimentos são aplicados aos dados de cada objeto, de modo que cada parte do programa irá rodar conforme o objeto que estiver sendo solicitado, não seguindo a estrutura sequencial do código. Isto faz com que o código tenha partes que são independentes, pois são conectadas a objetos diferentes, o que permite que o código seja *reutilizado*, daí a grande importância da POO. \n",
    "\n",
    "Mas o que são os objetos de que tanto falamos? Para que possamos entendê-los, precisamos também entender as *classes*. Vejamos alguns exemplos que encontramos no dia-a-dia:"
   ]
  },
  {
   "cell_type": "markdown",
   "metadata": {},
   "source": [
    "![title](class-object.png)\n"
   ]
  },
  {
   "cell_type": "markdown",
   "metadata": {},
   "source": [
    "Consideremos os mamíferos acima. Eles são animais que possuem características comuns exclusivas, tais como glândulas mamárias e pêlos. Mamíferos, neste caso, é uma *classe*  com essas duas principais características, que englobam os *objetos* humanos, cachorros, gambás e morcegos. Cada um dos objetos possui outras características próprias, por exemplo:\n",
    "- Cachorros: quatro patas, focinho, olfato muito desenvolvido, animais domesticados;\n",
    "- Morcegos: asas, ecolocalização, hábitos noturnos, animais silvestres.\n",
    "\n",
    "Podemos definir quaisquer tipos de classes desde que elas representem o comportamento geral de toda uma categoria de objetos. Desta forma, cada objeto já terá o comportamento geral e podemos definir ainda as características específicas a cada um.\n",
    "Vejamos um exemplo em Python:"
   ]
  },
  {
   "cell_type": "code",
   "execution_count": 1,
   "metadata": {},
   "outputs": [
    {
     "name": "stdout",
     "output_type": "stream",
     "text": [
      "O morcego é alimentado com o leite de sua mãe ao nascer\n",
      "O morcego vive em cavernas\n"
     ]
    }
   ],
   "source": [
    "class Mamiferos: #definição da classe\n",
    "    '''Animais fofinhos que tomam leite e onde vivem''' #docstring explicando a classe\n",
    "\n",
    "    #método (função) inicial que define os atributos característicos dos objetos de classe\n",
    "    def __init__(self, animal, onde_vive): #self é obrigatório na definição do método e vem antes dos demais parâmetros\n",
    "        self.animal = animal\n",
    "        self.onde_vive = onde_vive\n",
    "\n",
    "    def toma_leite(self):\n",
    "        return f'O {self.animal} é alimentado com o leite de sua mãe ao nascer'\n",
    "    def habitat(self):\n",
    "        return f'O {self.animal} vive em {self.onde_vive}'\n",
    "\n",
    "morcegos = Mamiferos('morcego', 'cavernas') #criando uma instância\n",
    "print(morcegos.toma_leite())\n",
    "print(morcegos.habitat())"
   ]
  },
  {
   "cell_type": "markdown",
   "metadata": {},
   "source": [
    "A instância comentada no código anterior é um objeto que é construído levando em conta a classe criada. Este objeto contém os valores reais que o especificam, como no caso anterior, onde temos o animal definido como morcego e seu habitat. "
   ]
  },
  {
   "cell_type": "code",
   "execution_count": 16,
   "metadata": {},
   "outputs": [
    {
     "name": "stdout",
     "output_type": "stream",
     "text": [
      "Livro: Americanah, quantidade: 150, autor: Chimamanda Ngozi Adichie, preço: 45\n"
     ]
    }
   ],
   "source": [
    "#definindo classe, métodos e instâncias para livros\n",
    "class Livros:\n",
    "\n",
    "    def __init__(self, titulo, autor, quantidade, preco):\n",
    "        self.preco = preco\n",
    "        self.titulo = titulo\n",
    "        self.autor = autor\n",
    "        self.quantidade = quantidade\n",
    "    \n",
    "    def __repr__(self): #método específico que define todas as informações que serão mostradas ao usuário\n",
    "        return f'Livro: {self.titulo}, quantidade: {self.quantidade}, autor: {self.autor}, preço: {self.preco}'\n",
    "\n",
    "book1 = Livros('Americanah', 'Chimamanda Ngozi Adichie', 150, 45)\n",
    "print(book1)"
   ]
  },
  {
   "cell_type": "markdown",
   "metadata": {},
   "source": [
    "## Pilares da POO"
   ]
  },
  {
   "cell_type": "markdown",
   "metadata": {},
   "source": [
    "### Encapsulamento"
   ]
  },
  {
   "cell_type": "markdown",
   "metadata": {},
   "source": [
    "Encapsulamento é o processo de tornar uma determinada parte do código privada, não-acessível a não ser através de métodos específicos. Pode ser utilizado, por exemplo, em um código onde não queremos que um cliente ou alguma pessoa que entre em um site tenha acesso a certas propriedades, como por exemplo a definição dos preços dos produtos. Este atributo privado que está encapsulado é definido no código pelo uso de \"__\". Vejamos um exemplo:"
   ]
  },
  {
   "cell_type": "code",
   "execution_count": 14,
   "metadata": {},
   "outputs": [
    {
     "name": "stdout",
     "output_type": "stream",
     "text": [
      "Livro: Americanah, quantidade: 150, autor: Chimamanda Ngozi Adichie, preço: 36.0\n"
     ]
    }
   ],
   "source": [
    "class Livros:\n",
    "\n",
    "    def __init__(self, titulo, autor, quantidade, preco):\n",
    "        self.__preco = preco #atributo privado\n",
    "        self.titulo = titulo\n",
    "        self.autor = autor\n",
    "        self.quantidade = quantidade\n",
    "        self.__desconto = None #atributo privado\n",
    "    \n",
    "    def set_desconto(self, desconto): #função que define o desconto\n",
    "        self.__desconto = desconto\n",
    "\n",
    "    def get_preco(self): #função que fornece o preço com base no desconto\n",
    "        if self.__desconto:\n",
    "            return self.__preco*(1-self.__desconto)\n",
    "        return self.__preco\n",
    "    \n",
    "    def __repr__(self):\n",
    "        return f'Livro: {self.titulo}, quantidade: {self.quantidade}, autor: {self.autor}, preço: {self.get_preco()}'\n",
    "\n",
    "book1 = Livros('Americanah', 'Chimamanda Ngozi Adichie', 150, 45)\n",
    "book1.set_desconto(0.2)\n",
    "print(book1)"
   ]
  },
  {
   "cell_type": "markdown",
   "metadata": {},
   "source": [
    "### Herança"
   ]
  },
  {
   "cell_type": "markdown",
   "metadata": {},
   "source": [
    "Quando uma classe nova que queremos definir possui os mesmos atributos de outra classe (além de, possivelmente, mais alguns), dizemos que esta nova classe *herda* da outra. A classe herdeira fica então sendo chamada de *classe-filha* ou *subclasse*, enquanto que a classe original é chamada de *classe-mãe (ou pai)* ou *superclasse*. A subclasse herda todos os atributos da superclasse, mas novos podem ser definidos também. \n",
    "Ao criar a nova classe herdeira, o nome da superclasse é passado entre parênteses na definição daquela."
   ]
  },
  {
   "cell_type": "code",
   "execution_count": 37,
   "metadata": {},
   "outputs": [
    {
     "name": "stdout",
     "output_type": "stream",
     "text": [
      "Livro: Fundamentos do Python, quantidade: 180, autor: PSF, preço: 123.25\n"
     ]
    }
   ],
   "source": [
    "class Livros:\n",
    "\n",
    "    def __init__(self, titulo, autor, quantidade, preco):\n",
    "        self.__preco = preco #atributo privado\n",
    "        self.titulo = titulo\n",
    "        self.autor = autor\n",
    "        self.quantidade = quantidade\n",
    "        self.__desconto = None #atributo privado\n",
    "    \n",
    "    def set_desconto(self, desconto): #função que define o desconto\n",
    "        self.__desconto = desconto\n",
    "\n",
    "    def get_preco(self): #função que fornece o preço com base no desconto\n",
    "        if self.__desconto:\n",
    "            return self.__preco*(1-self.__desconto)\n",
    "        return self.__preco\n",
    "    \n",
    "    def __repr__(self):\n",
    "        return f'Livro: {self.titulo}, quantidade: {self.quantidade}, autor: {self.autor}, preço: {self.get_preco()}'\n",
    "\n",
    "class LivrosAcademicos(Livros): #subclasse derivada da classe Livros\n",
    "    \n",
    "    def __init__(self, titulo, autor, quantidade, preco, area):\n",
    "        super().__init__(titulo, autor, quantidade, preco) #super() indica a herança e vem de superclass\n",
    "        self.area = area\n",
    "\n",
    "academico1 = LivrosAcademicos('Fundamentos do Python', 'PSF', 180, 145, 'Programação')\n",
    "academico1.set_desconto(0.15)\n",
    "print(academico1)"
   ]
  },
  {
   "cell_type": "markdown",
   "metadata": {},
   "source": [
    "Observemos que a subclasse herdou as características da superclasse e ainda acrescentamos uma nova, que é a \"área\". Além disso, a subclasse também herda as funções dentro da superclasse, como podemos ver pelo preço com desconto. "
   ]
  },
  {
   "cell_type": "markdown",
   "metadata": {},
   "source": [
    "### Polimorfismo"
   ]
  },
  {
   "cell_type": "markdown",
   "metadata": {},
   "source": [
    "Polimorfismo refere-se à capacidade de uma subclasse de alterar algum método que ela herda da sua superclasse, de acordo com suas necessidades. No examplo que estamos considerando, vamos considerar que a subclasse LivrosAcademicos não irá apresentar desconto. Neste caso, podemos alterar o método *set_desconto* para que o desconto seja não-existente e o preço mostrado no final seja o preço cheio. A subclasse, então, suprime o método presente na superclasse e invoca o próprio método graças ao polimorfismo."
   ]
  },
  {
   "cell_type": "code",
   "execution_count": 28,
   "metadata": {},
   "outputs": [
    {
     "name": "stdout",
     "output_type": "stream",
     "text": [
      "Livro: Fundamentos do Python, quantidade: 180, autor: PSF, preço: 145\n"
     ]
    }
   ],
   "source": [
    "class Livros:\n",
    "\n",
    "    def __init__(self, titulo, autor, quantidade, preco):\n",
    "        self.__preco = preco \n",
    "        self.titulo = titulo\n",
    "        self.autor = autor\n",
    "        self.quantidade = quantidade\n",
    "        self.__desconto = None \n",
    "    \n",
    "    def set_desconto(self, desconto): \n",
    "        self.__desconto = desconto\n",
    "\n",
    "    def get_preco(self): \n",
    "        if self.__desconto:\n",
    "            return self.__preco*(1-self.__desconto)\n",
    "        return self.__preco\n",
    "    \n",
    "    def __repr__(self):\n",
    "        return f'Livro: {self.titulo}, quantidade: {self.quantidade}, autor: {self.autor}, preço: {self.get_preco()}'\n",
    "\n",
    "class LivrosAcademicos(Livros): #classe-filha derivada da classe Livros\n",
    "    \n",
    "    def __init__(self, titulo, autor, quantidade, preco, area):\n",
    "        super().__init__(titulo, autor, quantidade, preco) #super() indica a herança\n",
    "        self.area = area\n",
    "\n",
    "    def set_desconto(self, desconto): #polimorfismo: sobrescrevendo o método e colocando desconto como não-existente\n",
    "        self.__desconto = None\n",
    "\n",
    "academico1 = LivrosAcademicos('Fundamentos do Python', 'PSF', 180, 145, 'Programação')\n",
    "print(academico1)"
   ]
  },
  {
   "cell_type": "markdown",
   "metadata": {},
   "source": [
    "### Abstração"
   ]
  }
 ],
 "metadata": {
  "kernelspec": {
   "display_name": "Python 3.10.2 64-bit (windows store)",
   "language": "python",
   "name": "python3"
  },
  "language_info": {
   "codemirror_mode": {
    "name": "ipython",
    "version": 3
   },
   "file_extension": ".py",
   "mimetype": "text/x-python",
   "name": "python",
   "nbconvert_exporter": "python",
   "pygments_lexer": "ipython3",
   "version": "3.10.2"
  },
  "orig_nbformat": 4,
  "vscode": {
   "interpreter": {
    "hash": "2dc2bf7612b6fc54099c84a2f96b9dcaac82ab0d95b490498bb21a789b084be8"
   }
  }
 },
 "nbformat": 4,
 "nbformat_minor": 2
}
